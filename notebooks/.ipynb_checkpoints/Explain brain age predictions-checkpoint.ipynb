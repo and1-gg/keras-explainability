{
 "cells": [
  {
   "cell_type": "code",
   "execution_count": 1,
   "id": "a0402d0c",
   "metadata": {},
   "outputs": [
    {
     "name": "stderr",
     "output_type": "stream",
     "text": [
      "2022-03-25 14:08:43,848 - WARNING - pyment.data.datasets.nifti_dataset: Skipping IXI638-HH-2786-T1: Missing labels\n",
      "2022-03-25 14:08:43,848 - WARNING - pyment.data.datasets.nifti_dataset: Skipping IXI347-IOP-0927-T1: Missing labels\n",
      "2022-03-25 14:08:43,849 - WARNING - pyment.data.datasets.nifti_dataset: Skipping IXI661-HH-2788-T1: Missing labels\n",
      "2022-03-25 14:08:43,849 - WARNING - pyment.data.datasets.nifti_dataset: Skipping IXI643-HH-2787-T1: Missing labels\n",
      "2022-03-25 14:08:43,849 - WARNING - pyment.data.datasets.nifti_dataset: Skipping IXI088-Guys-0758-T1: Missing labels\n",
      "2022-03-25 14:08:43,850 - WARNING - pyment.data.datasets.nifti_dataset: Skipping IXI589-Guys-1080-T1: Missing labels\n",
      "2022-03-25 14:08:43,850 - WARNING - pyment.data.datasets.nifti_dataset: Skipping IXI341-Guys-0906-T1: Missing labels\n",
      "2022-03-25 14:08:43,850 - WARNING - pyment.data.datasets.nifti_dataset: Skipping IXI337-IOP-0929-T1: Missing labels\n",
      "2022-03-25 14:08:43,851 - WARNING - pyment.data.datasets.nifti_dataset: Skipping IXI081-Guys-0855-T1: Missing labels\n",
      "2022-03-25 14:08:43,851 - WARNING - pyment.data.datasets.nifti_dataset: Skipping IXI345-IOP-0928-T1: Missing labels\n",
      "2022-03-25 14:08:43,851 - WARNING - pyment.data.datasets.nifti_dataset: Skipping IXI623-Guys-1076-T1: Missing labels\n",
      "2022-03-25 14:08:43,853 - WARNING - pyment.data.datasets.nifti_dataset: Skipping IXI340-IOP-0915-T1: Missing labels\n",
      "2022-03-25 14:08:43,853 - WARNING - pyment.data.datasets.nifti_dataset: Skipping IXI457-Guys-0984-T1: Missing labels\n",
      "2022-03-25 14:08:43,854 - WARNING - pyment.data.datasets.nifti_dataset: Skipping IXI333-IOP-0926-T1: Missing labels\n",
      "2022-03-25 14:08:43,854 - WARNING - pyment.data.datasets.nifti_dataset: Skipping IXI228-Guys-0822-T1: Missing labels\n",
      "2022-03-25 14:08:43,854 - WARNING - pyment.data.datasets.nifti_dataset: Skipping IXI435-IOP-1040-T1: Missing labels\n",
      "2022-03-25 14:08:43,854 - WARNING - pyment.data.datasets.nifti_dataset: Skipping IXI117-Guys-0763-T1: Missing labels\n",
      "2022-03-25 14:08:43,855 - WARNING - pyment.data.datasets.nifti_dataset: Skipping IXI637-HH-2785-T1: Missing labels\n"
     ]
    }
   ],
   "source": [
    "import os\n",
    "\n",
    "from pyment.data import NiftiDataset, AsyncNiftiGenerator\n",
    "from pyment.data.preprocessors import NiftiPreprocessor\n",
    "\n",
    "ixi_folder = os.path.join(os.path.expanduser('~'), 'data', 'IXI', 'cropped')\n",
    "dataset = NiftiDataset.from_folder(ixi_folder, target='age')\n",
    "preprocessor = NiftiPreprocessor(sigma=255.)\n",
    "generator = AsyncNiftiGenerator(\n",
    "    dataset=dataset,\n",
    "    preprocessor=preprocessor,\n",
    "    batch_size=4,\n",
    "    threads=8\n",
    ")"
   ]
  },
  {
   "cell_type": "code",
   "execution_count": 2,
   "id": "2af09f1f",
   "metadata": {},
   "outputs": [
    {
     "name": "stderr",
     "output_type": "stream",
     "text": [
      "2022-03-25 14:08:43.944688: I tensorflow/stream_executor/cuda/cuda_gpu_executor.cc:937] successful NUMA node read from SysFS had negative value (-1), but there must be at least one NUMA node, so returning NUMA node zero\n",
      "2022-03-25 14:08:43.951760: I tensorflow/stream_executor/cuda/cuda_gpu_executor.cc:937] successful NUMA node read from SysFS had negative value (-1), but there must be at least one NUMA node, so returning NUMA node zero\n",
      "2022-03-25 14:08:43.951947: I tensorflow/stream_executor/cuda/cuda_gpu_executor.cc:937] successful NUMA node read from SysFS had negative value (-1), but there must be at least one NUMA node, so returning NUMA node zero\n",
      "2022-03-25 14:08:43.952496: I tensorflow/core/platform/cpu_feature_guard.cc:142] This TensorFlow binary is optimized with oneAPI Deep Neural Network Library (oneDNN) to use the following CPU instructions in performance-critical operations:  AVX2 FMA\n",
      "To enable them in other operations, rebuild TensorFlow with the appropriate compiler flags.\n",
      "2022-03-25 14:08:43.952815: I tensorflow/stream_executor/cuda/cuda_gpu_executor.cc:937] successful NUMA node read from SysFS had negative value (-1), but there must be at least one NUMA node, so returning NUMA node zero\n",
      "2022-03-25 14:08:43.952991: I tensorflow/stream_executor/cuda/cuda_gpu_executor.cc:937] successful NUMA node read from SysFS had negative value (-1), but there must be at least one NUMA node, so returning NUMA node zero\n",
      "2022-03-25 14:08:43.953127: I tensorflow/stream_executor/cuda/cuda_gpu_executor.cc:937] successful NUMA node read from SysFS had negative value (-1), but there must be at least one NUMA node, so returning NUMA node zero\n",
      "2022-03-25 14:08:44.374486: I tensorflow/stream_executor/cuda/cuda_gpu_executor.cc:937] successful NUMA node read from SysFS had negative value (-1), but there must be at least one NUMA node, so returning NUMA node zero\n",
      "2022-03-25 14:08:44.374671: I tensorflow/stream_executor/cuda/cuda_gpu_executor.cc:937] successful NUMA node read from SysFS had negative value (-1), but there must be at least one NUMA node, so returning NUMA node zero\n",
      "2022-03-25 14:08:44.374840: I tensorflow/stream_executor/cuda/cuda_gpu_executor.cc:937] successful NUMA node read from SysFS had negative value (-1), but there must be at least one NUMA node, so returning NUMA node zero\n",
      "2022-03-25 14:08:44.374957: I tensorflow/core/common_runtime/gpu/gpu_device.cc:1510] Created device /job:localhost/replica:0/task:0/device:GPU:0 with 11068 MB memory:  -> device: 0, name: NVIDIA TITAN X (Pascal), pci bus id: 0000:01:00.0, compute capability: 6.1\n"
     ]
    },
    {
     "name": "stdout",
     "output_type": "stream",
     "text": [
      "(None, 1)\n",
      "3\n"
     ]
    },
    {
     "name": "stderr",
     "output_type": "stream",
     "text": [
      "  0%|                                                                                                                               | 0/135 [00:00<?, ?it/s]2022-03-25 14:08:45.261905: I tensorflow/compiler/mlir/mlir_graph_optimization_pass.cc:185] None of the MLIR Optimization Passes are enabled (registered 2)\n",
      "2022-03-25 14:08:45.752535: I tensorflow/stream_executor/cuda/cuda_dnn.cc:369] Loaded cuDNN version 8100\n",
      "2022-03-25 14:08:45.965060: W tensorflow/stream_executor/gpu/asm_compiler.cc:113] *** WARNING *** You are using ptxas 9.1.108, which is older than 9.2.88. ptxas 9.x before 9.2.88 is known to miscompile XLA code, leading to incorrect results or invalid-address errors.\n",
      "\n",
      "You do not need to update to CUDA 9.2.88; cherry-picking the ptxas binary is sufficient.\n",
      "100%|█████████████████████████████████████████████████████████████████████████████████████████████████████████████████████| 135/135 [01:06<00:00,  2.02it/s]\n"
     ]
    }
   ],
   "source": [
    "from pyment.models import RegressionSFCN\n",
    "\n",
    "model = RegressionSFCN(weights='brain-age')\n",
    "\n",
    "predictions = model.predict(generator)"
   ]
  },
  {
   "cell_type": "code",
   "execution_count": 3,
   "id": "59e25831",
   "metadata": {},
   "outputs": [
    {
     "name": "stdout",
     "output_type": "stream",
     "text": [
      "Brain age delta: 4.0\n"
     ]
    }
   ],
   "source": [
    "import numpy as np\n",
    "\n",
    "\n",
    "ages = dataset.y\n",
    "predictions = predictions.squeeze()\n",
    "predictions = predictions[np.where(~np.isnan(ages))]\n",
    "ages = ages[np.where(~np.isnan(ages))]\n",
    "delta = predictions - ages\n",
    "print(f'Brain age delta: {round(np.mean(np.abs(delta)), 2)}')"
   ]
  },
  {
   "cell_type": "code",
   "execution_count": 33,
   "id": "0f0c4729",
   "metadata": {},
   "outputs": [
    {
     "ename": "TypeError",
     "evalue": "'>' not supported between instances of 'tuple' and 'int'",
     "output_type": "error",
     "traceback": [
      "\u001b[0;31m---------------------------------------------------------------------------\u001b[0m",
      "\u001b[0;31mTypeError\u001b[0m                                 Traceback (most recent call last)",
      "\u001b[0;32m/tmp/ipykernel_25109/1390590152.py\u001b[0m in \u001b[0;36m<module>\u001b[0;34m\u001b[0m\n\u001b[1;32m     24\u001b[0m     \u001b[0mexplanations\u001b[0m \u001b[0;34m=\u001b[0m \u001b[0mexplanations\u001b[0m \u001b[0;34m/\u001b[0m \u001b[0mnp\u001b[0m\u001b[0;34m.\u001b[0m\u001b[0mamax\u001b[0m\u001b[0;34m(\u001b[0m\u001b[0mnp\u001b[0m\u001b[0;34m.\u001b[0m\u001b[0mabs\u001b[0m\u001b[0;34m(\u001b[0m\u001b[0mexplanations\u001b[0m\u001b[0;34m)\u001b[0m\u001b[0;34m)\u001b[0m\u001b[0;34m\u001b[0m\u001b[0;34m\u001b[0m\u001b[0m\n\u001b[1;32m     25\u001b[0m     \u001b[0mmask\u001b[0m \u001b[0;34m=\u001b[0m \u001b[0mnp\u001b[0m\u001b[0;34m.\u001b[0m\u001b[0mzeros_like\u001b[0m\u001b[0;34m(\u001b[0m\u001b[0mexplanations\u001b[0m\u001b[0;34m)\u001b[0m\u001b[0;34m\u001b[0m\u001b[0;34m\u001b[0m\u001b[0m\n\u001b[0;32m---> 26\u001b[0;31m     \u001b[0mpositive\u001b[0m \u001b[0;34m=\u001b[0m \u001b[0mexplanations\u001b[0m\u001b[0;34m[\u001b[0m\u001b[0mnp\u001b[0m\u001b[0;34m.\u001b[0m\u001b[0mwhere\u001b[0m\u001b[0;34m(\u001b[0m\u001b[0mexplanations\u001b[0m\u001b[0;34m)\u001b[0m \u001b[0;34m>\u001b[0m \u001b[0;36m0\u001b[0m\u001b[0;34m]\u001b[0m\u001b[0;34m\u001b[0m\u001b[0;34m\u001b[0m\u001b[0m\n\u001b[0m\u001b[1;32m     27\u001b[0m     \u001b[0mpositive\u001b[0m \u001b[0;34m=\u001b[0m \u001b[0mnp\u001b[0m\u001b[0;34m.\u001b[0m\u001b[0mmedian\u001b[0m\u001b[0;34m(\u001b[0m\u001b[0mpositive\u001b[0m\u001b[0;34m)\u001b[0m\u001b[0;34m\u001b[0m\u001b[0;34m\u001b[0m\u001b[0m\n\u001b[1;32m     28\u001b[0m     \u001b[0mnegative\u001b[0m \u001b[0;34m=\u001b[0m \u001b[0mexplanations\u001b[0m\u001b[0;34m[\u001b[0m\u001b[0mnp\u001b[0m\u001b[0;34m.\u001b[0m\u001b[0mwhere\u001b[0m\u001b[0;34m(\u001b[0m\u001b[0mexplanations\u001b[0m\u001b[0;34m)\u001b[0m \u001b[0;34m<\u001b[0m \u001b[0;36m0\u001b[0m\u001b[0;34m]\u001b[0m\u001b[0;34m\u001b[0m\u001b[0;34m\u001b[0m\u001b[0m\n",
      "\u001b[0;31mTypeError\u001b[0m: '>' not supported between instances of 'tuple' and 'int'"
     ]
    }
   ],
   "source": [
    "import matplotlib.pyplot as plt\n",
    "\n",
    "from explainability import LRP, LRPStrategy\n",
    "\n",
    "alpha=1\n",
    "beta=0\n",
    "\n",
    "strategy = LRPStrategy(\n",
    "    layers=[\n",
    "        {'alpha': alpha, 'beta': beta},\n",
    "        {'alpha': alpha, 'beta': beta},\n",
    "        {'alpha': alpha, 'beta': beta},\n",
    "        {'alpha': alpha, 'beta': beta},\n",
    "        {'alpha': alpha, 'beta': beta},\n",
    "        {'alpha': alpha, 'beta': beta},\n",
    "        {'epsilon': 0.25}\n",
    "    ])\n",
    "\n",
    "lrp = LRP(model, layer=len(model.layers)-1, idx=0, strategy=strategy)\n",
    "\n",
    "for X, y in generator:\n",
    "    preds = model.predict(X)\n",
    "    explanations = lrp(X[:1])[0]\n",
    "    explanations = explanations / np.amax(np.abs(explanations))\n",
    "    mask = np.zeros_like(explanations)\n",
    "    positive = explanations[np.where(explanations > 0)]\n",
    "    positive = np.median(positive)\n",
    "    negative = explanations[np.where(explanations < 0)]\n",
    "    negative = np.median(negative)\n",
    "    mask[np.where(explanations > np.median(np.abs(explanations)))] = 1\n",
    "    mask[np.where(explanations < -np.median(np.abs(explanations)))] = -1\n",
    "    idx = np.argmax(explanations)\n",
    "    idx = np.unravel_index(idx, explanations.shape)\n",
    "    \n",
    "    fig, ax = plt.subplots(9, 8, figsize=(15, 15))\n",
    "    \n",
    "    for i in range(-4, 4):\n",
    "        ax[0][i].imshow(np.rot90(X[0,idx[0]+i]), cmap='Greys_r')\n",
    "        ax[0][i].axis('off')\n",
    "        ax[1][i].imshow(np.rot90(explanations[idx[0]+i]), cmap='seismic', clim=(-1, 1))\n",
    "        ax[1][i].axis('off')\n",
    "        ax[2][i].imshow(np.rot90(mask[idx[0]+i]), cmap='seismic', clim=(-1, 1))\n",
    "        ax[2][i].axis('off')\n",
    "        ax[3][i].imshow(np.rot90(X[0,:,idx[1]+i]), cmap='Greys_r')\n",
    "        ax[3][i].axis('off')\n",
    "        ax[4][i].imshow(np.rot90(explanations[:,idx[1]+i]), cmap='seismic', clim=(-1, 1))\n",
    "        ax[4][i].axis('off')\n",
    "        ax[5][i].imshow(np.rot90(mask[:,idx[1]+i]), cmap='seismic', clim=(-1, 1))\n",
    "        ax[5][i].axis('off')\n",
    "        ax[6][i].imshow(X[0,:,:,idx[2]+i], cmap='Greys_r')\n",
    "        ax[6][i].axis('off')\n",
    "        ax[7][i].imshow(explanations[:,:,idx[2]+i], cmap='seismic', clim=(-1, 1))\n",
    "        ax[7][i].axis('off')\n",
    "        ax[8][i].imshow(mask[:,:,idx[2]+i], cmap='seismic', clim=(-1, 1))\n",
    "        ax[8][i].axis('off')\n",
    "        \n",
    "    break\n",
    "\n",
    "    plt.show()"
   ]
  },
  {
   "cell_type": "code",
   "execution_count": 47,
   "id": "b6fdbf63",
   "metadata": {},
   "outputs": [
    {
     "data": {
      "text/plain": [
       "[-3.0, 5.25, 0, -12.75, 33.0]"
      ]
     },
     "execution_count": 47,
     "metadata": {},
     "output_type": "execute_result"
    }
   ],
   "source": [
    "[-4*(30/40), 7*(30/40), 0, -17*(30/40), 44*(30/40)]"
   ]
  },
  {
   "cell_type": "code",
   "execution_count": null,
   "id": "bfa73bd2",
   "metadata": {},
   "outputs": [],
   "source": []
  }
 ],
 "metadata": {
  "kernelspec": {
   "display_name": "Python 3 (ipykernel)",
   "language": "python",
   "name": "python3"
  },
  "language_info": {
   "codemirror_mode": {
    "name": "ipython",
    "version": 3
   },
   "file_extension": ".py",
   "mimetype": "text/x-python",
   "name": "python",
   "nbconvert_exporter": "python",
   "pygments_lexer": "ipython3",
   "version": "3.7.12"
  }
 },
 "nbformat": 4,
 "nbformat_minor": 5
}
