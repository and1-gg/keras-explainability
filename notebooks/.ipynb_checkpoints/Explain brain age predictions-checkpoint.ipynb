{
 "cells": [
  {
   "cell_type": "code",
   "execution_count": 1,
   "id": "a0402d0c",
   "metadata": {},
   "outputs": [
    {
     "name": "stderr",
     "output_type": "stream",
     "text": [
      "2022-03-22 11:07:00,805 - WARNING - pyment.data.datasets.nifti_dataset: Skipping IXI589-Guys-1080-T1: Missing labels\n",
      "2022-03-22 11:07:00,805 - WARNING - pyment.data.datasets.nifti_dataset: Skipping IXI345-IOP-0928-T1: Missing labels\n",
      "2022-03-22 11:07:00,806 - WARNING - pyment.data.datasets.nifti_dataset: Skipping IXI228-Guys-0822-T1: Missing labels\n",
      "2022-03-22 11:07:00,806 - WARNING - pyment.data.datasets.nifti_dataset: Skipping IXI341-Guys-0906-T1: Missing labels\n",
      "2022-03-22 11:07:00,806 - WARNING - pyment.data.datasets.nifti_dataset: Skipping IXI347-IOP-0927-T1: Missing labels\n",
      "2022-03-22 11:07:00,807 - WARNING - pyment.data.datasets.nifti_dataset: Skipping IXI337-IOP-0929-T1: Missing labels\n",
      "2022-03-22 11:07:00,807 - WARNING - pyment.data.datasets.nifti_dataset: Skipping IXI457-Guys-0984-T1: Missing labels\n",
      "2022-03-22 11:07:00,808 - WARNING - pyment.data.datasets.nifti_dataset: Skipping IXI088-Guys-0758-T1: Missing labels\n",
      "2022-03-22 11:07:00,808 - WARNING - pyment.data.datasets.nifti_dataset: Skipping IXI637-HH-2785-T1: Missing labels\n",
      "2022-03-22 11:07:00,808 - WARNING - pyment.data.datasets.nifti_dataset: Skipping IXI643-HH-2787-T1: Missing labels\n",
      "2022-03-22 11:07:00,808 - WARNING - pyment.data.datasets.nifti_dataset: Skipping IXI333-IOP-0926-T1: Missing labels\n",
      "2022-03-22 11:07:00,810 - WARNING - pyment.data.datasets.nifti_dataset: Skipping IXI117-Guys-0763-T1: Missing labels\n",
      "2022-03-22 11:07:00,810 - WARNING - pyment.data.datasets.nifti_dataset: Skipping IXI638-HH-2786-T1: Missing labels\n",
      "2022-03-22 11:07:00,810 - WARNING - pyment.data.datasets.nifti_dataset: Skipping IXI623-Guys-1076-T1: Missing labels\n",
      "2022-03-22 11:07:00,810 - WARNING - pyment.data.datasets.nifti_dataset: Skipping IXI435-IOP-1040-T1: Missing labels\n",
      "2022-03-22 11:07:00,811 - WARNING - pyment.data.datasets.nifti_dataset: Skipping IXI661-HH-2788-T1: Missing labels\n",
      "2022-03-22 11:07:00,811 - WARNING - pyment.data.datasets.nifti_dataset: Skipping IXI081-Guys-0855-T1: Missing labels\n",
      "2022-03-22 11:07:00,811 - WARNING - pyment.data.datasets.nifti_dataset: Skipping IXI340-IOP-0915-T1: Missing labels\n"
     ]
    }
   ],
   "source": [
    "import os\n",
    "\n",
    "from pyment.data import NiftiDataset, AsyncNiftiGenerator\n",
    "from pyment.data.preprocessors import NiftiPreprocessor\n",
    "\n",
    "ixi_folder = os.path.join(os.path.expanduser('~'), 'data', 'IXI', 'cropped')\n",
    "dataset = NiftiDataset.from_folder(ixi_folder)\n",
    "preprocessor = NiftiPreprocessor(sigma=255.)\n",
    "generator = AsyncNiftiGenerator(\n",
    "    dataset=dataset,\n",
    "    preprocessor=preprocessor,\n",
    "    batch_size=4,\n",
    "    threads=8\n",
    ")"
   ]
  },
  {
   "cell_type": "code",
   "execution_count": 2,
   "id": "2af09f1f",
   "metadata": {},
   "outputs": [
    {
     "name": "stderr",
     "output_type": "stream",
     "text": [
      "2022-03-22 11:07:01.695008: I tensorflow/stream_executor/cuda/cuda_gpu_executor.cc:937] successful NUMA node read from SysFS had negative value (-1), but there must be at least one NUMA node, so returning NUMA node zero\n",
      "2022-03-22 11:07:01.702393: I tensorflow/stream_executor/cuda/cuda_gpu_executor.cc:937] successful NUMA node read from SysFS had negative value (-1), but there must be at least one NUMA node, so returning NUMA node zero\n",
      "2022-03-22 11:07:01.702723: I tensorflow/stream_executor/cuda/cuda_gpu_executor.cc:937] successful NUMA node read from SysFS had negative value (-1), but there must be at least one NUMA node, so returning NUMA node zero\n",
      "2022-03-22 11:07:01.703551: I tensorflow/core/platform/cpu_feature_guard.cc:142] This TensorFlow binary is optimized with oneAPI Deep Neural Network Library (oneDNN) to use the following CPU instructions in performance-critical operations:  AVX2 FMA\n",
      "To enable them in other operations, rebuild TensorFlow with the appropriate compiler flags.\n",
      "2022-03-22 11:07:01.704041: I tensorflow/stream_executor/cuda/cuda_gpu_executor.cc:937] successful NUMA node read from SysFS had negative value (-1), but there must be at least one NUMA node, so returning NUMA node zero\n",
      "2022-03-22 11:07:01.704378: I tensorflow/stream_executor/cuda/cuda_gpu_executor.cc:937] successful NUMA node read from SysFS had negative value (-1), but there must be at least one NUMA node, so returning NUMA node zero\n",
      "2022-03-22 11:07:01.704718: I tensorflow/stream_executor/cuda/cuda_gpu_executor.cc:937] successful NUMA node read from SysFS had negative value (-1), but there must be at least one NUMA node, so returning NUMA node zero\n",
      "2022-03-22 11:07:02.139977: I tensorflow/stream_executor/cuda/cuda_gpu_executor.cc:937] successful NUMA node read from SysFS had negative value (-1), but there must be at least one NUMA node, so returning NUMA node zero\n",
      "2022-03-22 11:07:02.140179: I tensorflow/stream_executor/cuda/cuda_gpu_executor.cc:937] successful NUMA node read from SysFS had negative value (-1), but there must be at least one NUMA node, so returning NUMA node zero\n",
      "2022-03-22 11:07:02.140337: I tensorflow/stream_executor/cuda/cuda_gpu_executor.cc:937] successful NUMA node read from SysFS had negative value (-1), but there must be at least one NUMA node, so returning NUMA node zero\n",
      "2022-03-22 11:07:02.140477: I tensorflow/core/common_runtime/gpu/gpu_device.cc:1510] Created device /job:localhost/replica:0/task:0/device:GPU:0 with 11069 MB memory:  -> device: 0, name: NVIDIA TITAN X (Pascal), pci bus id: 0000:01:00.0, compute capability: 6.1\n"
     ]
    },
    {
     "name": "stdout",
     "output_type": "stream",
     "text": [
      "(None, 1)\n",
      "3\n"
     ]
    },
    {
     "name": "stderr",
     "output_type": "stream",
     "text": [
      "  0%|                                                                                                                                                                                                                                                                                               | 0/135 [00:00<?, ?it/s]2022-03-22 11:07:02.879489: I tensorflow/compiler/mlir/mlir_graph_optimization_pass.cc:185] None of the MLIR Optimization Passes are enabled (registered 2)\n",
      "2022-03-22 11:07:03.379123: I tensorflow/stream_executor/cuda/cuda_dnn.cc:369] Loaded cuDNN version 8100\n",
      "2022-03-22 11:07:03.596768: W tensorflow/stream_executor/gpu/asm_compiler.cc:113] *** WARNING *** You are using ptxas 9.1.108, which is older than 9.2.88. ptxas 9.x before 9.2.88 is known to miscompile XLA code, leading to incorrect results or invalid-address errors.\n",
      "\n",
      "You do not need to update to CUDA 9.2.88; cherry-picking the ptxas binary is sufficient.\n",
      "100%|█████████████████████████████████████████████████████████████████████████████████████████████████████████████████████████████████████████████████████████████████████████████████████████████████████████████████████████████████████████████████████████████████████████████████████| 135/135 [01:04<00:00,  2.08it/s]\n"
     ]
    }
   ],
   "source": [
    "\n",
    "\n",
    "from pyment.models import RegressionSFCN\n",
    "\n",
    "model = RegressionSFCN(weights='brain-age')\n",
    "\n",
    "predictions = model.predict(generator)"
   ]
  },
  {
   "cell_type": "code",
   "execution_count": 9,
   "id": "59e25831",
   "metadata": {},
   "outputs": [
    {
     "name": "stdout",
     "output_type": "stream",
     "text": [
      "4.003618430985069\n",
      "14.400156347705968\n"
     ]
    }
   ],
   "source": [
    "import numpy as np\n",
    "\n",
    "\n",
    "ages = dataset['age']\n",
    "predictions = predictions.squeeze()\n",
    "predictions = predictions[np.where(~np.isnan(ages))]\n",
    "ages = ages[np.where(~np.isnan(ages))]\n",
    "delta = predictions - ages"
   ]
  },
  {
   "cell_type": "code",
   "execution_count": null,
   "id": "64f4e40a",
   "metadata": {},
   "outputs": [],
   "source": []
  }
 ],
 "metadata": {
  "kernelspec": {
   "display_name": "Python 3 (ipykernel)",
   "language": "python",
   "name": "python3"
  },
  "language_info": {
   "codemirror_mode": {
    "name": "ipython",
    "version": 3
   },
   "file_extension": ".py",
   "mimetype": "text/x-python",
   "name": "python",
   "nbconvert_exporter": "python",
   "pygments_lexer": "ipython3",
   "version": "3.7.12"
  }
 },
 "nbformat": 4,
 "nbformat_minor": 5
}
