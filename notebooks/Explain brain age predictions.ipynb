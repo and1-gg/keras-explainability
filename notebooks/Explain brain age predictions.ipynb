{
 "cells": [
  {
   "cell_type": "code",
   "execution_count": 1,
   "id": "a0402d0c",
   "metadata": {},
   "outputs": [
    {
     "name": "stderr",
     "output_type": "stream",
     "text": [
      "2022-03-22 11:07:00,805 - WARNING - pyment.data.datasets.nifti_dataset: Skipping IXI589-Guys-1080-T1: Missing labels\n",
      "2022-03-22 11:07:00,805 - WARNING - pyment.data.datasets.nifti_dataset: Skipping IXI345-IOP-0928-T1: Missing labels\n",
      "2022-03-22 11:07:00,806 - WARNING - pyment.data.datasets.nifti_dataset: Skipping IXI228-Guys-0822-T1: Missing labels\n",
      "2022-03-22 11:07:00,806 - WARNING - pyment.data.datasets.nifti_dataset: Skipping IXI341-Guys-0906-T1: Missing labels\n",
      "2022-03-22 11:07:00,806 - WARNING - pyment.data.datasets.nifti_dataset: Skipping IXI347-IOP-0927-T1: Missing labels\n",
      "2022-03-22 11:07:00,807 - WARNING - pyment.data.datasets.nifti_dataset: Skipping IXI337-IOP-0929-T1: Missing labels\n",
      "2022-03-22 11:07:00,807 - WARNING - pyment.data.datasets.nifti_dataset: Skipping IXI457-Guys-0984-T1: Missing labels\n",
      "2022-03-22 11:07:00,808 - WARNING - pyment.data.datasets.nifti_dataset: Skipping IXI088-Guys-0758-T1: Missing labels\n",
      "2022-03-22 11:07:00,808 - WARNING - pyment.data.datasets.nifti_dataset: Skipping IXI637-HH-2785-T1: Missing labels\n",
      "2022-03-22 11:07:00,808 - WARNING - pyment.data.datasets.nifti_dataset: Skipping IXI643-HH-2787-T1: Missing labels\n",
      "2022-03-22 11:07:00,808 - WARNING - pyment.data.datasets.nifti_dataset: Skipping IXI333-IOP-0926-T1: Missing labels\n",
      "2022-03-22 11:07:00,810 - WARNING - pyment.data.datasets.nifti_dataset: Skipping IXI117-Guys-0763-T1: Missing labels\n",
      "2022-03-22 11:07:00,810 - WARNING - pyment.data.datasets.nifti_dataset: Skipping IXI638-HH-2786-T1: Missing labels\n",
      "2022-03-22 11:07:00,810 - WARNING - pyment.data.datasets.nifti_dataset: Skipping IXI623-Guys-1076-T1: Missing labels\n",
      "2022-03-22 11:07:00,810 - WARNING - pyment.data.datasets.nifti_dataset: Skipping IXI435-IOP-1040-T1: Missing labels\n",
      "2022-03-22 11:07:00,811 - WARNING - pyment.data.datasets.nifti_dataset: Skipping IXI661-HH-2788-T1: Missing labels\n",
      "2022-03-22 11:07:00,811 - WARNING - pyment.data.datasets.nifti_dataset: Skipping IXI081-Guys-0855-T1: Missing labels\n",
      "2022-03-22 11:07:00,811 - WARNING - pyment.data.datasets.nifti_dataset: Skipping IXI340-IOP-0915-T1: Missing labels\n"
     ]
    }
   ],
   "source": [
    "import os\n",
    "\n",
    "from pyment.data import NiftiDataset, AsyncNiftiGenerator\n",
    "from pyment.data.preprocessors import NiftiPreprocessor\n",
    "\n",
    "ixi_folder = os.path.join(os.path.expanduser('~'), 'data', 'IXI', 'cropped')\n",
    "dataset = NiftiDataset.from_folder(ixi_folder)\n",
    "preprocessor = NiftiPreprocessor(sigma=255.)\n",
    "generator = AsyncNiftiGenerator(\n",
    "    dataset=dataset,\n",
    "    preprocessor=preprocessor,\n",
    "    batch_size=4,\n",
    "    threads=8\n",
    ")"
   ]
  },
  {
   "cell_type": "code",
   "execution_count": 2,
   "id": "2af09f1f",
   "metadata": {},
   "outputs": [
    {
     "name": "stderr",
     "output_type": "stream",
     "text": [
      "2022-03-22 11:07:01.695008: I tensorflow/stream_executor/cuda/cuda_gpu_executor.cc:937] successful NUMA node read from SysFS had negative value (-1), but there must be at least one NUMA node, so returning NUMA node zero\n",
      "2022-03-22 11:07:01.702393: I tensorflow/stream_executor/cuda/cuda_gpu_executor.cc:937] successful NUMA node read from SysFS had negative value (-1), but there must be at least one NUMA node, so returning NUMA node zero\n",
      "2022-03-22 11:07:01.702723: I tensorflow/stream_executor/cuda/cuda_gpu_executor.cc:937] successful NUMA node read from SysFS had negative value (-1), but there must be at least one NUMA node, so returning NUMA node zero\n",
      "2022-03-22 11:07:01.703551: I tensorflow/core/platform/cpu_feature_guard.cc:142] This TensorFlow binary is optimized with oneAPI Deep Neural Network Library (oneDNN) to use the following CPU instructions in performance-critical operations:  AVX2 FMA\n",
      "To enable them in other operations, rebuild TensorFlow with the appropriate compiler flags.\n",
      "2022-03-22 11:07:01.704041: I tensorflow/stream_executor/cuda/cuda_gpu_executor.cc:937] successful NUMA node read from SysFS had negative value (-1), but there must be at least one NUMA node, so returning NUMA node zero\n",
      "2022-03-22 11:07:01.704378: I tensorflow/stream_executor/cuda/cuda_gpu_executor.cc:937] successful NUMA node read from SysFS had negative value (-1), but there must be at least one NUMA node, so returning NUMA node zero\n",
      "2022-03-22 11:07:01.704718: I tensorflow/stream_executor/cuda/cuda_gpu_executor.cc:937] successful NUMA node read from SysFS had negative value (-1), but there must be at least one NUMA node, so returning NUMA node zero\n",
      "2022-03-22 11:07:02.139977: I tensorflow/stream_executor/cuda/cuda_gpu_executor.cc:937] successful NUMA node read from SysFS had negative value (-1), but there must be at least one NUMA node, so returning NUMA node zero\n",
      "2022-03-22 11:07:02.140179: I tensorflow/stream_executor/cuda/cuda_gpu_executor.cc:937] successful NUMA node read from SysFS had negative value (-1), but there must be at least one NUMA node, so returning NUMA node zero\n",
      "2022-03-22 11:07:02.140337: I tensorflow/stream_executor/cuda/cuda_gpu_executor.cc:937] successful NUMA node read from SysFS had negative value (-1), but there must be at least one NUMA node, so returning NUMA node zero\n",
      "2022-03-22 11:07:02.140477: I tensorflow/core/common_runtime/gpu/gpu_device.cc:1510] Created device /job:localhost/replica:0/task:0/device:GPU:0 with 11069 MB memory:  -> device: 0, name: NVIDIA TITAN X (Pascal), pci bus id: 0000:01:00.0, compute capability: 6.1\n"
     ]
    },
    {
     "name": "stdout",
     "output_type": "stream",
     "text": [
      "(None, 1)\n",
      "3\n"
     ]
    },
    {
     "name": "stderr",
     "output_type": "stream",
     "text": [
      "  0%|                                                                                                                                                                                                                                                                                               | 0/135 [00:00<?, ?it/s]2022-03-22 11:07:02.879489: I tensorflow/compiler/mlir/mlir_graph_optimization_pass.cc:185] None of the MLIR Optimization Passes are enabled (registered 2)\n",
      "2022-03-22 11:07:03.379123: I tensorflow/stream_executor/cuda/cuda_dnn.cc:369] Loaded cuDNN version 8100\n",
      "2022-03-22 11:07:03.596768: W tensorflow/stream_executor/gpu/asm_compiler.cc:113] *** WARNING *** You are using ptxas 9.1.108, which is older than 9.2.88. ptxas 9.x before 9.2.88 is known to miscompile XLA code, leading to incorrect results or invalid-address errors.\n",
      "\n",
      "You do not need to update to CUDA 9.2.88; cherry-picking the ptxas binary is sufficient.\n",
      "100%|█████████████████████████████████████████████████████████████████████████████████████████████████████████████████████████████████████████████████████████████████████████████████████████████████████████████████████████████████████████████████████████████████████████████████████| 135/135 [01:04<00:00,  2.08it/s]\n"
     ]
    }
   ],
   "source": [
    "\n",
    "\n",
    "from pyment.models import RegressionSFCN\n",
    "\n",
    "model = RegressionSFCN(weights='brain-age')\n",
    "\n",
    "predictions = model.predict(generator)"
   ]
  },
  {
   "cell_type": "code",
   "execution_count": 11,
   "id": "59e25831",
   "metadata": {},
   "outputs": [
    {
     "name": "stdout",
     "output_type": "stream",
     "text": [
      "Brain age delta: 4.0\n"
     ]
    }
   ],
   "source": [
    "import numpy as np\n",
    "\n",
    "\n",
    "ages = dataset['age']\n",
    "predictions = predictions.squeeze()\n",
    "predictions = predictions[np.where(~np.isnan(ages))]\n",
    "ages = ages[np.where(~np.isnan(ages))]\n",
    "delta = predictions - ages\n",
    "print(f'Brain age delta: {round(np.mean(np.abs(delta)), 2)}')"
   ]
  },
  {
   "cell_type": "code",
   "execution_count": 14,
   "id": "0f0c4729",
   "metadata": {},
   "outputs": [
    {
     "ename": "NotImplementedError",
     "evalue": "LRP is not implemented for layer Add",
     "output_type": "error",
     "traceback": [
      "\u001b[0;31m---------------------------------------------------------------------------\u001b[0m",
      "\u001b[0;31mNotImplementedError\u001b[0m                       Traceback (most recent call last)",
      "\u001b[0;32m/tmp/ipykernel_9096/940113929.py\u001b[0m in \u001b[0;36m<module>\u001b[0;34m\u001b[0m\n\u001b[1;32m      2\u001b[0m \u001b[0;34m\u001b[0m\u001b[0m\n\u001b[1;32m      3\u001b[0m \u001b[0;34m\u001b[0m\u001b[0m\n\u001b[0;32m----> 4\u001b[0;31m \u001b[0mlrp\u001b[0m \u001b[0;34m=\u001b[0m \u001b[0mLRP\u001b[0m\u001b[0;34m(\u001b[0m\u001b[0mmodel\u001b[0m\u001b[0;34m,\u001b[0m \u001b[0mlayer\u001b[0m\u001b[0;34m=\u001b[0m\u001b[0;36m29\u001b[0m\u001b[0;34m,\u001b[0m \u001b[0midx\u001b[0m\u001b[0;34m=\u001b[0m\u001b[0;36m0\u001b[0m\u001b[0;34m,\u001b[0m \u001b[0malpha\u001b[0m\u001b[0;34m=\u001b[0m\u001b[0;36m2\u001b[0m\u001b[0;34m,\u001b[0m \u001b[0mbeta\u001b[0m\u001b[0;34m=\u001b[0m\u001b[0;36m1\u001b[0m\u001b[0;34m)\u001b[0m\u001b[0;34m\u001b[0m\u001b[0;34m\u001b[0m\u001b[0m\n\u001b[0m",
      "\u001b[0;32m~/repos/keras-explainability/explainability/model/lrp.py\u001b[0m in \u001b[0;36m__init__\u001b[0;34m(self, model, layer, idx, epsilon, gamma, alpha, beta, ignore_input, strategy)\u001b[0m\n\u001b[1;32m     50\u001b[0m                 \u001b[0malpha\u001b[0m\u001b[0;34m=\u001b[0m\u001b[0malpha\u001b[0m\u001b[0;34m,\u001b[0m\u001b[0;34m\u001b[0m\u001b[0;34m\u001b[0m\u001b[0m\n\u001b[1;32m     51\u001b[0m                 \u001b[0mbeta\u001b[0m\u001b[0;34m=\u001b[0m\u001b[0mbeta\u001b[0m\u001b[0;34m,\u001b[0m\u001b[0;34m\u001b[0m\u001b[0;34m\u001b[0m\u001b[0m\n\u001b[0;32m---> 52\u001b[0;31m                 \u001b[0mname\u001b[0m\u001b[0;34m=\u001b[0m\u001b[0;34mf'{i}'\u001b[0m\u001b[0;34m\u001b[0m\u001b[0;34m\u001b[0m\u001b[0m\n\u001b[0m\u001b[1;32m     53\u001b[0m             )([input, prev])\n\u001b[1;32m     54\u001b[0m \u001b[0;34m\u001b[0m\u001b[0m\n",
      "\u001b[0;32m~/repos/keras-explainability/explainability/layers/__init__.py\u001b[0m in \u001b[0;36mget_lrp_layer\u001b[0;34m(layer, *args, **kwargs)\u001b[0m\n\u001b[1;32m     48\u001b[0m         \u001b[0;32mreturn\u001b[0m \u001b[0mReLULRP\u001b[0m\u001b[0;34m(\u001b[0m\u001b[0mlayer\u001b[0m\u001b[0;34m,\u001b[0m \u001b[0;34m*\u001b[0m\u001b[0margs\u001b[0m\u001b[0;34m,\u001b[0m \u001b[0;34m**\u001b[0m\u001b[0mkwargs\u001b[0m\u001b[0;34m)\u001b[0m\u001b[0;34m\u001b[0m\u001b[0;34m\u001b[0m\u001b[0m\n\u001b[1;32m     49\u001b[0m     \u001b[0;32melse\u001b[0m\u001b[0;34m:\u001b[0m\u001b[0;34m\u001b[0m\u001b[0;34m\u001b[0m\u001b[0m\n\u001b[0;32m---> 50\u001b[0;31m         raise NotImplementedError('LRP is not implemented for layer '\n\u001b[0m\u001b[1;32m     51\u001b[0m                                   f'{layer.__class__.__name__}')\n",
      "\u001b[0;31mNotImplementedError\u001b[0m: LRP is not implemented for layer Add"
     ]
    }
   ],
   "source": [
    "from explainability import LRP\n",
    "\n",
    "\n",
    "lrp = LRP(model, layer=29, idx=0, alpha=2, beta=1)"
   ]
  },
  {
   "cell_type": "code",
   "execution_count": 12,
   "id": "ef50b69b",
   "metadata": {},
   "outputs": [
    {
     "name": "stdout",
     "output_type": "stream",
     "text": [
      "0: <keras.engine.input_layer.InputLayer object at 0x7fd403f68ed0>\n",
      "1: <keras.layers.core.Reshape object at 0x7fd40269aad0>\n",
      "2: <keras.layers.convolutional.Conv3D object at 0x7fd40269abd0>\n",
      "3: <keras.layers.normalization.batch_normalization.BatchNormalization object at 0x7fd401e22a50>\n",
      "4: <keras.layers.core.Activation object at 0x7fd401e07c10>\n",
      "5: <keras.layers.pooling.MaxPooling3D object at 0x7fd401d7f250>\n",
      "6: <keras.layers.convolutional.Conv3D object at 0x7fd401d5d290>\n",
      "7: <keras.layers.normalization.batch_normalization.BatchNormalization object at 0x7fd401d5dd10>\n",
      "8: <keras.layers.core.Activation object at 0x7fd401d694d0>\n",
      "9: <keras.layers.pooling.MaxPooling3D object at 0x7fd401d6f390>\n",
      "10: <keras.layers.convolutional.Conv3D object at 0x7fd401d74a10>\n",
      "11: <keras.layers.normalization.batch_normalization.BatchNormalization object at 0x7fd401d6fc90>\n",
      "12: <keras.layers.core.Activation object at 0x7fd401d01090>\n",
      "13: <keras.layers.pooling.MaxPooling3D object at 0x7fd401d09650>\n",
      "14: <keras.layers.convolutional.Conv3D object at 0x7fd401d09250>\n",
      "15: <keras.layers.normalization.batch_normalization.BatchNormalization object at 0x7fd401cfe490>\n",
      "16: <keras.layers.core.Activation object at 0x7fd401d10f50>\n",
      "17: <keras.layers.pooling.MaxPooling3D object at 0x7fd401d1a9d0>\n",
      "18: <keras.layers.convolutional.Conv3D object at 0x7fd401d01c50>\n",
      "19: <keras.layers.normalization.batch_normalization.BatchNormalization object at 0x7fd401d23510>\n",
      "20: <keras.layers.core.Activation object at 0x7fd401d2f110>\n",
      "21: <keras.layers.pooling.MaxPooling3D object at 0x7fd401d2f4d0>\n",
      "22: <keras.layers.convolutional.Conv3D object at 0x7fd401d34c50>\n",
      "23: <keras.layers.normalization.batch_normalization.BatchNormalization object at 0x7fd401d3ae10>\n",
      "24: <keras.layers.core.Activation object at 0x7fd401cc1550>\n",
      "25: <keras.layers.pooling.GlobalAveragePooling3D object at 0x7fd401d2be90>\n",
      "26: <keras.layers.core.Dropout object at 0x7fd401ccb190>\n",
      "27: <keras.layers.core.Dense object at 0x7fd401ccbe10>\n",
      "28: <keras.layers.advanced_activations.ReLU object at 0x7fd401ccb310>\n",
      "29: <keras.layers.merge.Add object at 0x7fd401ccb9d0>\n"
     ]
    }
   ],
   "source": [
    "for i in range(len(model.layers)):\n",
    "    print(f'{i}: {model.layers[i]}')"
   ]
  },
  {
   "cell_type": "code",
   "execution_count": null,
   "id": "e5aa6817",
   "metadata": {},
   "outputs": [],
   "source": []
  }
 ],
 "metadata": {
  "kernelspec": {
   "display_name": "Python 3 (ipykernel)",
   "language": "python",
   "name": "python3"
  },
  "language_info": {
   "codemirror_mode": {
    "name": "ipython",
    "version": 3
   },
   "file_extension": ".py",
   "mimetype": "text/x-python",
   "name": "python",
   "nbconvert_exporter": "python",
   "pygments_lexer": "ipython3",
   "version": "3.7.12"
  }
 },
 "nbformat": 4,
 "nbformat_minor": 5
}
